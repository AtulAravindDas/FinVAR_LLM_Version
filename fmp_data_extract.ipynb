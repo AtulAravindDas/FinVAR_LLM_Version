{
  "nbformat": 4,
  "nbformat_minor": 0,
  "metadata": {
    "colab": {
      "provenance": [],
      "authorship_tag": "ABX9TyMbLi/dktxMEjCnrEjLBBXR",
      "include_colab_link": true
    },
    "kernelspec": {
      "name": "python3",
      "display_name": "Python 3"
    },
    "language_info": {
      "name": "python"
    }
  },
  "cells": [
    {
      "cell_type": "markdown",
      "metadata": {
        "id": "view-in-github",
        "colab_type": "text"
      },
      "source": [
        "<a href=\"https://colab.research.google.com/github/AtulAravindDas/FinVAR_LLM_Version/blob/main/fmp_data_extract.ipynb\" target=\"_parent\"><img src=\"https://colab.research.google.com/assets/colab-badge.svg\" alt=\"Open In Colab\"/></a>"
      ]
    },
    {
      "cell_type": "code",
      "execution_count": null,
      "metadata": {
        "id": "lcwec1j4K3dt"
      },
      "outputs": [],
      "source": [
        "!pip install langchain-core langgraph>0.2.27"
      ]
    },
    {
      "cell_type": "code",
      "source": [
        "!pip install -U langchain-openai"
      ],
      "metadata": {
        "id": "Yd2C5TSTN2m7",
        "colab": {
          "base_uri": "https://localhost:8080/"
        },
        "outputId": "0e0b07d9-1194-4673-9270-741a9c053f26"
      },
      "execution_count": null,
      "outputs": [
        {
          "output_type": "stream",
          "name": "stdout",
          "text": [
            "Collecting langchain-openai\n",
            "  Downloading langchain_openai-0.3.30-py3-none-any.whl.metadata (2.4 kB)\n",
            "Requirement already satisfied: langchain-core<1.0.0,>=0.3.74 in /usr/local/lib/python3.11/dist-packages (from langchain-openai) (0.3.74)\n",
            "Collecting openai<2.0.0,>=1.99.9 (from langchain-openai)\n",
            "  Downloading openai-1.99.9-py3-none-any.whl.metadata (29 kB)\n",
            "Requirement already satisfied: tiktoken<1,>=0.7 in /usr/local/lib/python3.11/dist-packages (from langchain-openai) (0.11.0)\n",
            "Requirement already satisfied: langsmith>=0.3.45 in /usr/local/lib/python3.11/dist-packages (from langchain-core<1.0.0,>=0.3.74->langchain-openai) (0.4.13)\n",
            "Requirement already satisfied: tenacity!=8.4.0,<10.0.0,>=8.1.0 in /usr/local/lib/python3.11/dist-packages (from langchain-core<1.0.0,>=0.3.74->langchain-openai) (9.1.2)\n",
            "Requirement already satisfied: jsonpatch<2.0,>=1.33 in /usr/local/lib/python3.11/dist-packages (from langchain-core<1.0.0,>=0.3.74->langchain-openai) (1.33)\n",
            "Requirement already satisfied: PyYAML>=5.3 in /usr/local/lib/python3.11/dist-packages (from langchain-core<1.0.0,>=0.3.74->langchain-openai) (6.0.2)\n",
            "Requirement already satisfied: typing-extensions>=4.7 in /usr/local/lib/python3.11/dist-packages (from langchain-core<1.0.0,>=0.3.74->langchain-openai) (4.14.1)\n",
            "Requirement already satisfied: packaging>=23.2 in /usr/local/lib/python3.11/dist-packages (from langchain-core<1.0.0,>=0.3.74->langchain-openai) (25.0)\n",
            "Requirement already satisfied: pydantic>=2.7.4 in /usr/local/lib/python3.11/dist-packages (from langchain-core<1.0.0,>=0.3.74->langchain-openai) (2.11.7)\n",
            "Requirement already satisfied: anyio<5,>=3.5.0 in /usr/local/lib/python3.11/dist-packages (from openai<2.0.0,>=1.99.9->langchain-openai) (4.10.0)\n",
            "Requirement already satisfied: distro<2,>=1.7.0 in /usr/local/lib/python3.11/dist-packages (from openai<2.0.0,>=1.99.9->langchain-openai) (1.9.0)\n",
            "Requirement already satisfied: httpx<1,>=0.23.0 in /usr/local/lib/python3.11/dist-packages (from openai<2.0.0,>=1.99.9->langchain-openai) (0.28.1)\n",
            "Requirement already satisfied: jiter<1,>=0.4.0 in /usr/local/lib/python3.11/dist-packages (from openai<2.0.0,>=1.99.9->langchain-openai) (0.10.0)\n",
            "Requirement already satisfied: sniffio in /usr/local/lib/python3.11/dist-packages (from openai<2.0.0,>=1.99.9->langchain-openai) (1.3.1)\n",
            "Requirement already satisfied: tqdm>4 in /usr/local/lib/python3.11/dist-packages (from openai<2.0.0,>=1.99.9->langchain-openai) (4.67.1)\n",
            "Requirement already satisfied: regex>=2022.1.18 in /usr/local/lib/python3.11/dist-packages (from tiktoken<1,>=0.7->langchain-openai) (2024.11.6)\n",
            "Requirement already satisfied: requests>=2.26.0 in /usr/local/lib/python3.11/dist-packages (from tiktoken<1,>=0.7->langchain-openai) (2.32.3)\n",
            "Requirement already satisfied: idna>=2.8 in /usr/local/lib/python3.11/dist-packages (from anyio<5,>=3.5.0->openai<2.0.0,>=1.99.9->langchain-openai) (3.10)\n",
            "Requirement already satisfied: certifi in /usr/local/lib/python3.11/dist-packages (from httpx<1,>=0.23.0->openai<2.0.0,>=1.99.9->langchain-openai) (2025.8.3)\n",
            "Requirement already satisfied: httpcore==1.* in /usr/local/lib/python3.11/dist-packages (from httpx<1,>=0.23.0->openai<2.0.0,>=1.99.9->langchain-openai) (1.0.9)\n",
            "Requirement already satisfied: h11>=0.16 in /usr/local/lib/python3.11/dist-packages (from httpcore==1.*->httpx<1,>=0.23.0->openai<2.0.0,>=1.99.9->langchain-openai) (0.16.0)\n",
            "Requirement already satisfied: jsonpointer>=1.9 in /usr/local/lib/python3.11/dist-packages (from jsonpatch<2.0,>=1.33->langchain-core<1.0.0,>=0.3.74->langchain-openai) (3.0.0)\n",
            "Requirement already satisfied: orjson>=3.9.14 in /usr/local/lib/python3.11/dist-packages (from langsmith>=0.3.45->langchain-core<1.0.0,>=0.3.74->langchain-openai) (3.11.1)\n",
            "Requirement already satisfied: requests-toolbelt>=1.0.0 in /usr/local/lib/python3.11/dist-packages (from langsmith>=0.3.45->langchain-core<1.0.0,>=0.3.74->langchain-openai) (1.0.0)\n",
            "Requirement already satisfied: zstandard>=0.23.0 in /usr/local/lib/python3.11/dist-packages (from langsmith>=0.3.45->langchain-core<1.0.0,>=0.3.74->langchain-openai) (0.23.0)\n",
            "Requirement already satisfied: annotated-types>=0.6.0 in /usr/local/lib/python3.11/dist-packages (from pydantic>=2.7.4->langchain-core<1.0.0,>=0.3.74->langchain-openai) (0.7.0)\n",
            "Requirement already satisfied: pydantic-core==2.33.2 in /usr/local/lib/python3.11/dist-packages (from pydantic>=2.7.4->langchain-core<1.0.0,>=0.3.74->langchain-openai) (2.33.2)\n",
            "Requirement already satisfied: typing-inspection>=0.4.0 in /usr/local/lib/python3.11/dist-packages (from pydantic>=2.7.4->langchain-core<1.0.0,>=0.3.74->langchain-openai) (0.4.1)\n",
            "Requirement already satisfied: charset-normalizer<4,>=2 in /usr/local/lib/python3.11/dist-packages (from requests>=2.26.0->tiktoken<1,>=0.7->langchain-openai) (3.4.3)\n",
            "Requirement already satisfied: urllib3<3,>=1.21.1 in /usr/local/lib/python3.11/dist-packages (from requests>=2.26.0->tiktoken<1,>=0.7->langchain-openai) (2.5.0)\n",
            "Downloading langchain_openai-0.3.30-py3-none-any.whl (74 kB)\n",
            "\u001b[2K   \u001b[90m━━━━━━━━━━━━━━━━━━━━━━━━━━━━━━━━━━━━━━━━\u001b[0m \u001b[32m74.4/74.4 kB\u001b[0m \u001b[31m5.7 MB/s\u001b[0m eta \u001b[36m0:00:00\u001b[0m\n",
            "\u001b[?25hDownloading openai-1.99.9-py3-none-any.whl (786 kB)\n",
            "\u001b[2K   \u001b[90m━━━━━━━━━━━━━━━━━━━━━━━━━━━━━━━━━━━━━━━━\u001b[0m \u001b[32m786.8/786.8 kB\u001b[0m \u001b[31m23.6 MB/s\u001b[0m eta \u001b[36m0:00:00\u001b[0m\n",
            "\u001b[?25hInstalling collected packages: openai, langchain-openai\n",
            "  Attempting uninstall: openai\n",
            "    Found existing installation: openai 1.99.8\n",
            "    Uninstalling openai-1.99.8:\n",
            "      Successfully uninstalled openai-1.99.8\n",
            "Successfully installed langchain-openai-0.3.30 openai-1.99.9\n"
          ]
        }
      ]
    },
    {
      "cell_type": "code",
      "source": [
        "!pip install sec-edgar-downloader"
      ],
      "metadata": {
        "id": "gQ_oekBOO8Nk",
        "colab": {
          "base_uri": "https://localhost:8080/"
        },
        "outputId": "49b090a4-c6fd-4068-d500-d7d4b5b543ba"
      },
      "execution_count": null,
      "outputs": [
        {
          "output_type": "stream",
          "name": "stdout",
          "text": [
            "Collecting sec-edgar-downloader\n",
            "  Downloading sec_edgar_downloader-5.0.3-py3-none-any.whl.metadata (11 kB)\n",
            "Requirement already satisfied: requests in /usr/local/lib/python3.11/dist-packages (from sec-edgar-downloader) (2.32.3)\n",
            "Collecting pyrate-limiter>=3.6.0 (from sec-edgar-downloader)\n",
            "  Downloading pyrate_limiter-3.9.0-py3-none-any.whl.metadata (28 kB)\n",
            "Requirement already satisfied: charset-normalizer<4,>=2 in /usr/local/lib/python3.11/dist-packages (from requests->sec-edgar-downloader) (3.4.3)\n",
            "Requirement already satisfied: idna<4,>=2.5 in /usr/local/lib/python3.11/dist-packages (from requests->sec-edgar-downloader) (3.10)\n",
            "Requirement already satisfied: urllib3<3,>=1.21.1 in /usr/local/lib/python3.11/dist-packages (from requests->sec-edgar-downloader) (2.5.0)\n",
            "Requirement already satisfied: certifi>=2017.4.17 in /usr/local/lib/python3.11/dist-packages (from requests->sec-edgar-downloader) (2025.8.3)\n",
            "Downloading sec_edgar_downloader-5.0.3-py3-none-any.whl (14 kB)\n",
            "Downloading pyrate_limiter-3.9.0-py3-none-any.whl (33 kB)\n",
            "Installing collected packages: pyrate-limiter, sec-edgar-downloader\n",
            "Successfully installed pyrate-limiter-3.9.0 sec-edgar-downloader-5.0.3\n"
          ]
        }
      ]
    },
    {
      "cell_type": "code",
      "source": [
        "!pip install langchain-core langgraph>0.2.27\n",
        "!pip install -U langchain-openai\n",
        "!pip install sec-edgar-downloader"
      ],
      "metadata": {
        "colab": {
          "base_uri": "https://localhost:8080/"
        },
        "id": "Ipg0Lg_FOCbb",
        "outputId": "5044ade4-4809-45d3-e62d-6d7bc7057d93"
      },
      "execution_count": null,
      "outputs": [
        {
          "output_type": "stream",
          "name": "stdout",
          "text": [
            "Requirement already satisfied: langchain-openai in /usr/local/lib/python3.11/dist-packages (0.3.30)\n",
            "Requirement already satisfied: langchain-core<1.0.0,>=0.3.74 in /usr/local/lib/python3.11/dist-packages (from langchain-openai) (0.3.74)\n",
            "Requirement already satisfied: openai<2.0.0,>=1.99.9 in /usr/local/lib/python3.11/dist-packages (from langchain-openai) (1.99.9)\n",
            "Requirement already satisfied: tiktoken<1,>=0.7 in /usr/local/lib/python3.11/dist-packages (from langchain-openai) (0.11.0)\n",
            "Requirement already satisfied: langsmith>=0.3.45 in /usr/local/lib/python3.11/dist-packages (from langchain-core<1.0.0,>=0.3.74->langchain-openai) (0.4.13)\n",
            "Requirement already satisfied: tenacity!=8.4.0,<10.0.0,>=8.1.0 in /usr/local/lib/python3.11/dist-packages (from langchain-core<1.0.0,>=0.3.74->langchain-openai) (9.1.2)\n",
            "Requirement already satisfied: jsonpatch<2.0,>=1.33 in /usr/local/lib/python3.11/dist-packages (from langchain-core<1.0.0,>=0.3.74->langchain-openai) (1.33)\n",
            "Requirement already satisfied: PyYAML>=5.3 in /usr/local/lib/python3.11/dist-packages (from langchain-core<1.0.0,>=0.3.74->langchain-openai) (6.0.2)\n",
            "Requirement already satisfied: typing-extensions>=4.7 in /usr/local/lib/python3.11/dist-packages (from langchain-core<1.0.0,>=0.3.74->langchain-openai) (4.14.1)\n",
            "Requirement already satisfied: packaging>=23.2 in /usr/local/lib/python3.11/dist-packages (from langchain-core<1.0.0,>=0.3.74->langchain-openai) (25.0)\n",
            "Requirement already satisfied: pydantic>=2.7.4 in /usr/local/lib/python3.11/dist-packages (from langchain-core<1.0.0,>=0.3.74->langchain-openai) (2.11.7)\n",
            "Requirement already satisfied: anyio<5,>=3.5.0 in /usr/local/lib/python3.11/dist-packages (from openai<2.0.0,>=1.99.9->langchain-openai) (4.10.0)\n",
            "Requirement already satisfied: distro<2,>=1.7.0 in /usr/local/lib/python3.11/dist-packages (from openai<2.0.0,>=1.99.9->langchain-openai) (1.9.0)\n",
            "Requirement already satisfied: httpx<1,>=0.23.0 in /usr/local/lib/python3.11/dist-packages (from openai<2.0.0,>=1.99.9->langchain-openai) (0.28.1)\n",
            "Requirement already satisfied: jiter<1,>=0.4.0 in /usr/local/lib/python3.11/dist-packages (from openai<2.0.0,>=1.99.9->langchain-openai) (0.10.0)\n",
            "Requirement already satisfied: sniffio in /usr/local/lib/python3.11/dist-packages (from openai<2.0.0,>=1.99.9->langchain-openai) (1.3.1)\n",
            "Requirement already satisfied: tqdm>4 in /usr/local/lib/python3.11/dist-packages (from openai<2.0.0,>=1.99.9->langchain-openai) (4.67.1)\n",
            "Requirement already satisfied: regex>=2022.1.18 in /usr/local/lib/python3.11/dist-packages (from tiktoken<1,>=0.7->langchain-openai) (2024.11.6)\n",
            "Requirement already satisfied: requests>=2.26.0 in /usr/local/lib/python3.11/dist-packages (from tiktoken<1,>=0.7->langchain-openai) (2.32.3)\n",
            "Requirement already satisfied: idna>=2.8 in /usr/local/lib/python3.11/dist-packages (from anyio<5,>=3.5.0->openai<2.0.0,>=1.99.9->langchain-openai) (3.10)\n",
            "Requirement already satisfied: certifi in /usr/local/lib/python3.11/dist-packages (from httpx<1,>=0.23.0->openai<2.0.0,>=1.99.9->langchain-openai) (2025.8.3)\n",
            "Requirement already satisfied: httpcore==1.* in /usr/local/lib/python3.11/dist-packages (from httpx<1,>=0.23.0->openai<2.0.0,>=1.99.9->langchain-openai) (1.0.9)\n",
            "Requirement already satisfied: h11>=0.16 in /usr/local/lib/python3.11/dist-packages (from httpcore==1.*->httpx<1,>=0.23.0->openai<2.0.0,>=1.99.9->langchain-openai) (0.16.0)\n",
            "Requirement already satisfied: jsonpointer>=1.9 in /usr/local/lib/python3.11/dist-packages (from jsonpatch<2.0,>=1.33->langchain-core<1.0.0,>=0.3.74->langchain-openai) (3.0.0)\n",
            "Requirement already satisfied: orjson>=3.9.14 in /usr/local/lib/python3.11/dist-packages (from langsmith>=0.3.45->langchain-core<1.0.0,>=0.3.74->langchain-openai) (3.11.1)\n",
            "Requirement already satisfied: requests-toolbelt>=1.0.0 in /usr/local/lib/python3.11/dist-packages (from langsmith>=0.3.45->langchain-core<1.0.0,>=0.3.74->langchain-openai) (1.0.0)\n",
            "Requirement already satisfied: zstandard>=0.23.0 in /usr/local/lib/python3.11/dist-packages (from langsmith>=0.3.45->langchain-core<1.0.0,>=0.3.74->langchain-openai) (0.23.0)\n",
            "Requirement already satisfied: annotated-types>=0.6.0 in /usr/local/lib/python3.11/dist-packages (from pydantic>=2.7.4->langchain-core<1.0.0,>=0.3.74->langchain-openai) (0.7.0)\n",
            "Requirement already satisfied: pydantic-core==2.33.2 in /usr/local/lib/python3.11/dist-packages (from pydantic>=2.7.4->langchain-core<1.0.0,>=0.3.74->langchain-openai) (2.33.2)\n",
            "Requirement already satisfied: typing-inspection>=0.4.0 in /usr/local/lib/python3.11/dist-packages (from pydantic>=2.7.4->langchain-core<1.0.0,>=0.3.74->langchain-openai) (0.4.1)\n",
            "Requirement already satisfied: charset-normalizer<4,>=2 in /usr/local/lib/python3.11/dist-packages (from requests>=2.26.0->tiktoken<1,>=0.7->langchain-openai) (3.4.3)\n",
            "Requirement already satisfied: urllib3<3,>=1.21.1 in /usr/local/lib/python3.11/dist-packages (from requests>=2.26.0->tiktoken<1,>=0.7->langchain-openai) (2.5.0)\n",
            "Requirement already satisfied: sec-edgar-downloader in /usr/local/lib/python3.11/dist-packages (5.0.3)\n",
            "Requirement already satisfied: requests in /usr/local/lib/python3.11/dist-packages (from sec-edgar-downloader) (2.32.3)\n",
            "Requirement already satisfied: pyrate-limiter>=3.6.0 in /usr/local/lib/python3.11/dist-packages (from sec-edgar-downloader) (3.9.0)\n",
            "Requirement already satisfied: charset-normalizer<4,>=2 in /usr/local/lib/python3.11/dist-packages (from requests->sec-edgar-downloader) (3.4.3)\n",
            "Requirement already satisfied: idna<4,>=2.5 in /usr/local/lib/python3.11/dist-packages (from requests->sec-edgar-downloader) (3.10)\n",
            "Requirement already satisfied: urllib3<3,>=1.21.1 in /usr/local/lib/python3.11/dist-packages (from requests->sec-edgar-downloader) (2.5.0)\n",
            "Requirement already satisfied: certifi>=2017.4.17 in /usr/local/lib/python3.11/dist-packages (from requests->sec-edgar-downloader) (2025.8.3)\n"
          ]
        }
      ]
    },
    {
      "cell_type": "code",
      "source": [
        "from google.colab import drive\n",
        "drive.mount('/content/drive')"
      ],
      "metadata": {
        "colab": {
          "base_uri": "https://localhost:8080/"
        },
        "id": "IKcXmVd0y13H",
        "outputId": "1d4d1fe2-838f-42da-9f22-6fc52cf93068"
      },
      "execution_count": null,
      "outputs": [
        {
          "output_type": "stream",
          "name": "stdout",
          "text": [
            "Mounted at /content/drive\n"
          ]
        }
      ]
    },
    {
      "cell_type": "code",
      "source": [
        "%%writefile /content/drive/MyDrive/fmp_data_extract.py\n",
        "import requests\n",
        "import pandas as pd\n",
        "import os\n",
        "API_KEY = \"QbXfO4JX704vVB7qu4fBGe5B6fiilEhn\"\n",
        "BASE_URL = \"https://financialmodelingprep.com/api/v3\"\n",
        "\n",
        "class FMPDataExtractor:\n",
        "    ticker_data_cache = {}\n",
        "\n",
        "    def __init__(self, ticker):\n",
        "        self.ticker = ticker.upper()\n",
        "        self.api_key = API_KEY\n",
        "        self.base_url = BASE_URL\n",
        "    def compute_ratios(self, income_df, balance_df):\n",
        "        ratios = {}\n",
        "        try:\n",
        "            year = income_df.columns.max()\n",
        "            if len(income_df.columns) >= 2:\n",
        "                rev_now = income_df.loc['revenue', income_df.columns[-1]]\n",
        "                rev_prev = income_df.loc['revenue', income_df.columns[-2]]\n",
        "                ratios['Revenue Growth (%)'] = ((rev_now - rev_prev) / rev_prev) * 100\n",
        "        except:\n",
        "            ratios['Revenue Growth (%)'] = None\n",
        "\n",
        "        try:\n",
        "            year = income_df.columns.max()\n",
        "            current_assets = balance_df.loc['totalCurrentAssets', year]\n",
        "            current_liabilities = balance_df.loc['totalCurrentLiabilities', year]\n",
        "            ratios['Current Ratio'] = current_assets / current_liabilities\n",
        "        except:\n",
        "            ratios['Current Ratio'] = None\n",
        "\n",
        "        try:\n",
        "            year = income_df.columns.max()\n",
        "            total_current_assets = balance_df.loc['totalCurrentAssets', year]\n",
        "            total_current_liabilities = balance_df.loc['totalCurrentLiabilities', year]\n",
        "            inventory= balance_df.loc['inventory', year]\n",
        "            ratios['Quick Ratio'] = (total_current_assets - inventory) / total_current_liabilities\n",
        "        except:\n",
        "            ratios['Quick Ratio'] = None\n",
        "\n",
        "        try:\n",
        "            year = income_df.columns.max()\n",
        "            total_debt = balance_df.loc['totalDebt', year]\n",
        "            total_assets = balance_df.loc['totalAssets', year]\n",
        "            ratios['Debt-to-Asset'] = total_debt / total_assets\n",
        "        except:\n",
        "            ratios['Debt-to-Asset'] = None\n",
        "\n",
        "        try:\n",
        "            year = income_df.columns.max()\n",
        "            ebit = income_df.loc['ebit', year]\n",
        "            interest_expense = income_df.loc['interestExpense', year]\n",
        "            ratios['Interest Coverage Ratio'] = ebit / abs(interest_expense)\n",
        "        except:\n",
        "            ratios['Interest Coverage Ratio'] = None\n",
        "\n",
        "        try:\n",
        "          year = income_df.columns.max()\n",
        "          ratios['FCF']=income_df.loc['netIncome', year]-income_df.loc['depreciationAndAmortization', year]\n",
        "        except:\n",
        "          ratios['FCF']=None\n",
        "\n",
        "\n",
        "        return ratios\n",
        "\n",
        "\n",
        "    def get_fmp_data(self):\n",
        "        if self.ticker in FMPDataExtractor.ticker_data_cache and 'complete_data' in FMPDataExtractor.ticker_data_cache[self.ticker]:\n",
        "            return FMPDataExtractor.ticker_data_cache[self.ticker]['complete_data']\n",
        "\n",
        "        try:\n",
        "            with requests.Session() as session:\n",
        "                profile_url = f\"{self.base_url}/profile/{self.ticker}?apikey={self.api_key}\"\n",
        "                quote_url = f\"{self.base_url}/quote/{self.ticker}?apikey={self.api_key}\"\n",
        "                income_url = f\"{self.base_url}/income-statement/{self.ticker}?limit=5&apikey={self.api_key}\"\n",
        "                balance_url = f\"{self.base_url}/balance-sheet-statement/{self.ticker}?limit=5&apikey={self.api_key}\"\n",
        "                cashflow_url = f\"{self.base_url}/cash-flow-statement/{self.ticker}?limit=5&apikey={self.api_key}\"\n",
        "                historical_url = f\"{self.base_url}/historical-price-full/{self.ticker}?apikey={self.api_key}\"\n",
        "\n",
        "                profile_data = session.get(profile_url).json()\n",
        "                quote_data = session.get(quote_url).json()\n",
        "                income_data = session.get(income_url).json()\n",
        "                balance_data = session.get(balance_url).json()\n",
        "                cashflow_data = session.get(cashflow_url).json()\n",
        "                historical_data = session.get(historical_url).json()\n",
        "\n",
        "            if not profile_data or not quote_data:\n",
        "                raise ValueError(\"Invalid data returned from FMP API.\")\n",
        "\n",
        "            profile = profile_data[0]\n",
        "            quote = quote_data[0]\n",
        "\n",
        "            info = {\n",
        "                \"longName\": profile.get(\"companyName\", \"N/A\"),\n",
        "                \"industry\": profile.get(\"industry\", \"N/A\"),\n",
        "                \"description\": profile.get(\"description\", \"N/A\"),\n",
        "                \"beta\": profile.get(\"beta\", None),\n",
        "                \"currentPrice\": quote.get(\"price\", None),\n",
        "                \"previousClose\": quote.get(\"previousClose\", None),\n",
        "                \"trailingPE\": quote.get(\"pe\", None),\n",
        "                \"epsTrailingTwelveMonths\": quote.get(\"eps\", None)\n",
        "            }\n",
        "\n",
        "            income_df = pd.DataFrame(income_data).set_index(\"date\").T if income_data else pd.DataFrame()\n",
        "            balance_df = pd.DataFrame(balance_data).set_index(\"date\").T if balance_data else pd.DataFrame()\n",
        "            cashflow_df = pd.DataFrame(cashflow_data).set_index(\"date\").T if cashflow_data else pd.DataFrame()\n",
        "            history_df = pd.DataFrame(historical_data.get('historical', [])) if 'historical' in historical_data else pd.DataFrame()\n",
        "\n",
        "            if not history_df.empty:\n",
        "                history_df['date'] = pd.to_datetime(history_df['date'])\n",
        "                history_df.set_index('date', inplace=True)\n",
        "                history_df = history_df.sort_index()\n",
        "\n",
        "            if not income_df.empty:\n",
        "                income_df.columns = pd.to_datetime(income_df.columns)\n",
        "                income_df = income_df.apply(pd.to_numeric, errors='coerce')\n",
        "\n",
        "            if not balance_df.empty:\n",
        "                balance_df.columns = pd.to_datetime(balance_df.columns)\n",
        "                balance_df = balance_df.apply(pd.to_numeric, errors='coerce')\n",
        "\n",
        "            if not cashflow_df.empty:\n",
        "                cashflow_df.columns = pd.to_datetime(cashflow_df.columns)\n",
        "                cashflow_df = cashflow_df.apply(pd.to_numeric, errors='coerce')\n",
        "\n",
        "            ratios = self.compute_ratios(income_df, balance_df)\n",
        "            complete_data = {\n",
        "                'info': info,\n",
        "                'financials': (income_df, balance_df, cashflow_df, history_df),\n",
        "                'ratios': ratios\n",
        "            }\n",
        "\n",
        "            FMPDataExtractor.ticker_data_cache[self.ticker] = {'complete_data': complete_data}\n",
        "            return complete_data\n",
        "\n",
        "        except Exception as e:\n",
        "            return {\n",
        "                'info': {\"error\": str(e)},\n",
        "                'financials': (pd.DataFrame(), pd.DataFrame(), pd.DataFrame(), pd.DataFrame())\n",
        "\n",
        "            }"
      ],
      "metadata": {
        "id": "m9t6fk2_ABkr",
        "colab": {
          "base_uri": "https://localhost:8080/"
        },
        "outputId": "ef820ea1-4d39-4225-fc10-503689f1d491"
      },
      "execution_count": null,
      "outputs": [
        {
          "output_type": "stream",
          "name": "stdout",
          "text": [
            "Overwriting /content/drive/MyDrive/fmp_data_extract.py\n"
          ]
        }
      ]
    }
  ]
}