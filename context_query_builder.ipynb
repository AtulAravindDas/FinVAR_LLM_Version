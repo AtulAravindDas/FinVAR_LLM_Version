{
  "nbformat": 4,
  "nbformat_minor": 0,
  "metadata": {
    "colab": {
      "provenance": [],
      "authorship_tag": "ABX9TyO5hlRAKbT1MVR2GLHSm8S8",
      "include_colab_link": true
    },
    "kernelspec": {
      "name": "python3",
      "display_name": "Python 3"
    },
    "language_info": {
      "name": "python"
    }
  },
  "cells": [
    {
      "cell_type": "markdown",
      "metadata": {
        "id": "view-in-github",
        "colab_type": "text"
      },
      "source": [
        "<a href=\"https://colab.research.google.com/github/AtulAravindDas/FinVAR_LLM_Version/blob/main/context_query_builder.ipynb\" target=\"_parent\"><img src=\"https://colab.research.google.com/assets/colab-badge.svg\" alt=\"Open In Colab\"/></a>"
      ]
    },
    {
      "cell_type": "code",
      "source": [
        "from google.colab import drive\n",
        "drive.mount('/content/drive')"
      ],
      "metadata": {
        "colab": {
          "base_uri": "https://localhost:8080/"
        },
        "id": "MqlDqVB7Y4hk",
        "outputId": "47d8dc4d-a512-4e01-ce83-61cbeb956e9d"
      },
      "execution_count": null,
      "outputs": [
        {
          "output_type": "stream",
          "name": "stdout",
          "text": [
            "Mounted at /content/drive\n"
          ]
        }
      ]
    },
    {
      "cell_type": "code",
      "source": [
        "!pip install langchain-core langgraph>0.2.27"
      ],
      "metadata": {
        "id": "imsFISFrY0o4"
      },
      "execution_count": null,
      "outputs": []
    },
    {
      "cell_type": "code",
      "execution_count": null,
      "metadata": {
        "colab": {
          "base_uri": "https://localhost:8080/"
        },
        "id": "Jtaj7PEOW84m",
        "outputId": "8a543215-a6e3-4129-bc10-dc5967f16b04"
      },
      "outputs": [
        {
          "output_type": "stream",
          "name": "stdout",
          "text": [
            "Overwriting /content/drive/MyDrive/context_query_builder.py\n"
          ]
        }
      ],
      "source": [
        "%%writefile /content/drive/MyDrive/context_query_builder.py\n",
        "from langchain_core.prompts import PromptTemplate\n",
        "import numpy as np\n",
        "import pandas as pd\n",
        "\n",
        "class ContextQueryBuilder:\n",
        "    def __init__(self, ticker, fmp_data, risk_statement):\n",
        "        self.ticker = ticker\n",
        "        self.fmp_data = fmp_data\n",
        "        self.risk_statement = risk_statement\n",
        "\n",
        "    def generate_query(self):\n",
        "        query = f\"How risky is it to invest in {self.ticker}\"\n",
        "        return query\n",
        "\n",
        "    def generate_context(self):\n",
        "        company_name = self.fmp_data[\"info\"].get(\"longName\", \"N/A\")\n",
        "        industry = self.fmp_data[\"info\"].get(\"industry\", \"N/A\")\n",
        "        pe_ratio = self.fmp_data[\"info\"].get(\"trailingPE\", \"N/A\")\n",
        "        eps = self.fmp_data[\"info\"].get(\"epsTrailingTwelveMonths\", \"N/A\")\n",
        "        beta = self.fmp_data[\"info\"].get(\"beta\", \"N/A\")\n",
        "        description = self.fmp_data[\"info\"].get(\"description\", \"N/A\")\n",
        "        market_cap = self.fmp_data[\"info\"].get(\"marketCap\", \"N/A\")\n",
        "        total_revenue = self.fmp_data[\"financials\"][0].get(\"revenue\", \"N/A\")\n",
        "\n",
        "        ratios = self.fmp_data[\"ratios\"]\n",
        "\n",
        "        context = f\"\"\"\n",
        "        Company Name: {company_name}\n",
        "        Ticker: {self.ticker}\n",
        "        Industry: {industry}\n",
        "        Market Cap: {market_cap}\n",
        "        Total Revenue (TTM): {total_revenue}\n",
        "        Description: {description}\n",
        "        Trailing P/E Ratio: {pe_ratio}\n",
        "        EPS (TTM): {eps}\n",
        "        Beta: {beta}\n",
        "        Risk Factors (from 10-K):\n",
        "        {self.risk_statement[0]}\n",
        "        Quantitative and Qualitative Description of Risk:\n",
        "        {self.risk_statement[1]}\n",
        "        \"\"\".strip()\n",
        "\n",
        "        liquidity_solvency_block = f\"\"\"\n",
        "\n",
        "        Liquidity and Solvency Ratios:\n",
        "        - Current Ratio: {ratios.get('Current Ratio', 'N/A')}\n",
        "        - Quick Ratio: {ratios.get('Quick Ratio', 'N/A')}\n",
        "        - Debt-to-Asset Ratio: {ratios.get('Debt-to-Asset', 'N/A')}\n",
        "        - Interest Coverage Ratio: {ratios.get('Interest Coverage Ratio', 'N/A')}\n",
        "        - Free Cash Flow: {ratios.get('FCF', 'N/A')}\n",
        "        - Revenue Growth: {ratios.get('Revenue Growth', 'N/A')}\n",
        "\n",
        "        Financial Health Indicators:\n",
        "        - Current Ratio >1.0 indicates company can cover short-term obligations\n",
        "        - Quick Ratio >1.0 shows strong liquidity without relying on inventory\n",
        "        - Lower Debt-to-Asset ratios generally indicate less financial leverage and risk\n",
        "        - Higher Interest Coverage ratios show better ability to service debt\n",
        "        - Positive Free Cash Flow shows company generates cash after necessary investments\n",
        "        - Positive Revenue Growth indicates expanding business operations\n",
        "        \"\"\".rstrip()\n",
        "\n",
        "        context += liquidity_solvency_block\n",
        "        return context\n",
        "\n",
        "    def prompt_creation(self):\n",
        "        context = self.generate_context()\n",
        "        print(\"Context Generated Successfully\")\n",
        "        query = self.generate_query()\n",
        "\n",
        "        template = \"\"\"\n",
        "You are a FINRA-certified financial analyst.\n",
        "\n",
        "CRITICAL GROUNDING RULES — FOLLOW EXACTLY:\n",
        "1) Use ONLY the information inside the <CONTEXT>…</CONTEXT> block.\n",
        "2) Do NOT use outside knowledge. If something is missing, write it under **Missing Data** as `INSUFFICIENT_CONTEXT: <what>`.\n",
        "3) Every analytical claim must reference a fact extracted from the context using [F#] tags.\n",
        "4) Quotes must be verbatim snippets (≤10 words) copied from the context.\n",
        "\n",
        "OUTPUT FORMAT (do not add extra sections):\n",
        "\n",
        "### Key Facts (verbatim from context)\n",
        "- [F1] \"<short quote>\"\n",
        "- [F2] \"<short quote>\"\n",
        "- [F3] \"<short quote>\"\n",
        "(Add 3–8 facts total)\n",
        "\n",
        "### Risk Assessment\n",
        "Cover:\n",
        "- Industry characteristics and competitive dynamics [reference facts via F-tags]\n",
        "- Valuation ratios (P/E, EPS, Beta) [F-tags]\n",
        "- Liquidity and solvency ratios (only if present) [F-tags or mark INSUFFICIENT_CONTEXT]\n",
        "- Revenue and Net Income trends (only if present) [F-tags or mark INSUFFICIENT_CONTEXT]\n",
        "- Risks from 10-K Risk Factors [F-tags]\n",
        "\n",
        "### Final Risk Level\n",
        "<Low | Medium | High>  (must be justified with F-tags)\n",
        "\n",
        "### Missing Data\n",
        "List each required item that is not present as:\n",
        "INSUFFICIENT_CONTEXT: <item>\n",
        "\n",
        "<CONTEXT>\n",
        "{context}\n",
        "</CONTEXT>\n",
        "\n",
        "Question:\n",
        "{query}\n",
        "\"\"\".strip()\n",
        "\n",
        "        prompt = PromptTemplate.from_template(template)\n",
        "        formatted_prompt = prompt.format(context=context, query=query)\n",
        "        return formatted_prompt"
      ]
    },
    {
      "cell_type": "code",
      "source": [],
      "metadata": {
        "id": "gdsgTOLnGSth"
      },
      "execution_count": null,
      "outputs": []
    }
  ]
}